{
 "cells": [
  {
   "cell_type": "code",
   "execution_count": null,
   "metadata": {
    "scrolled": true
   },
   "outputs": [],
   "source": [
    "import pandas as pd\n",
    "import matplotlib.pyplot as plt\n",
    "import matplotlib\n",
    "import math as mt\n",
    "import statsmodels.api as sm\n",
    "from statsmodels.tsa.tsatools import lagmat, add_trend\n",
    "from statsmodels.regression.linear_model import OLS\n",
    "from statsmodels.tsa.adfvalues import mackinnonp, mackinnoncrit\n",
    "import numpy as np\n",
    "import scipy\n",
    "import math\n",
    "import sys\n",
    "import warnings\n",
    "warnings.filterwarnings('ignore')\n",
    "from tqdm import tqdm\n",
    "from sklearn.metrics import r2_score\n",
    "from itertools import product\n",
    "from pandas.core.nanops import nanmean as pd_nanmean\n",
    "import seaborn as sns\n",
    "from pylab import rcParams\n",
    "%load_ext pycodestyle_magic"
   ]
  },
  {
   "cell_type": "code",
   "execution_count": null,
   "metadata": {},
   "outputs": [],
   "source": [
    "def DF_test(time_series):\n",
    "    result=d_fuller(time_series)\n",
    "    print(\"The test statistic= \",result[0])\n",
    "    print(\"P value= \",result[1])\n",
    "    print(\"Critical values= \",result[4])\n",
    "    if result[0]>result[4]['5%']:\n",
    "        print(\"The range is not stationary\")\n",
    "        return False\n",
    "    else:\n",
    "        print(\"The range is stationary\")\n",
    "        return True"
   ]
  },
  {
   "cell_type": "code",
   "execution_count": null,
   "metadata": {},
   "outputs": [],
   "source": [
    "def _autolag(mod, endog, exog, startlag, maxlag, method):\n",
    "    results = {}\n",
    "    method = method.lower()\n",
    "    for lag in range(startlag, startlag + maxlag + 1):\n",
    "        mod_instance = mod(endog, exog[:, :lag])\n",
    "        results[lag] = mod_instance.fit()\n",
    "    icbest, bestlag = min((v.aic, k) for k, v in iter(results.items()))\n",
    "    return icbest, bestlag"
   ]
  },
  {
   "cell_type": "code",
   "execution_count": null,
   "metadata": {},
   "outputs": [],
   "source": [
    "def d_fuller(x, maxlag=None, regression='c', autolag='AIC'):\n",
    "    trenddict = {None: 'nc', 0: 'c', 1: 'ct', 2: 'ctt'}\n",
    "    if regression not in ['c', 'nc', 'ct', 'ctt']:\n",
    "        raise ValueError('not understood regression')\n",
    "    x = np.asarray(x) # conset input to array\n",
    "    nobs = x.shape[0]\n",
    "    ntrend = len(regression) if regression != 'nc' else 0\n",
    "    if maxlag is None:\n",
    "        maxlag = int(np.ceil(12. * np.power(nobs / 100., 1 / 4.))) \n",
    "        if maxlag < 0:\n",
    "            raise ValueError('sample size too short')\n",
    "        elif maxlag > nobs // 2 - ntrend - 1:\n",
    "            raise ValueError('')\n",
    "    xdiff = np.diff(x, axis=0)\n",
    "    xdall = lagmat(xdiff[:, None], maxlag, trim='both', original='in')\n",
    "    nobs = xdall.shape[0]\n",
    "    xdall[:, 0] = x[-nobs - 1:-1]\n",
    "    xdshort = xdiff[-nobs:]\n",
    "\n",
    "    if autolag:\n",
    "        if regression != 'nc':\n",
    "            fullRHS  = add_trend(xdall, regression, prepend=True)\n",
    "        else:\n",
    "            fullRHS = xdall\n",
    "        startlag = fullRHS.shape[1] - xdall.shape[1] + 1\n",
    "        # 1 for level\n",
    "        # search for lag length with smallest information criteria\n",
    "        # Note: use the same number of observations to have comparable IC\n",
    "        # aic and bic: smaller is better\n",
    "\n",
    "        icbest, bestlag = _autolag(OLS, xdshort, fullRHS, startlag,\n",
    "                                          maxlag, autolag)\n",
    "\n",
    "        bestlag -= startlag  # convert to lag not column index\n",
    "\n",
    "        # rerun ols with best autolag\n",
    "        xdall = lagmat(xdiff[:, None], bestlag, trim='both', original='in')\n",
    "        nobs = xdall.shape[0]\n",
    "        xdall[:, 0] = x[-nobs - 1:-1]  # replace 0 xdiff with level of x\n",
    "        xdshort = xdiff[-nobs:]\n",
    "        usedlag = bestlag\n",
    "\n",
    "    if regression != 'nc':\n",
    "        resols = OLS(xdshort, add_trend(xdall[:, :usedlag + 1],\n",
    "                                            regression)).fit()\n",
    "    else:\n",
    "        resols = OLS(xdshort, xdall[:, :usedlag + 1]).fit()\n",
    "\n",
    "    adfstat = resols.tvalues[0]\n",
    "    pvalue = mackinnonp(adfstat, regression=regression, N=1)\n",
    "    criticalues = mackinnoncrit(N=1, regression=regression, nobs=nobs)\n",
    "    criticalues = {'1%': criticalues[0], '5%': criticalues[1],\n",
    "                   '10%': criticalues[2]}\n",
    "\n",
    "    return adfstat, pvalue, usedlag, nobs, criticalues, icbest "
   ]
  },
  {
   "cell_type": "markdown",
   "metadata": {},
   "source": [
    "# 1"
   ]
  },
  {
   "cell_type": "code",
   "execution_count": null,
   "metadata": {},
   "outputs": [],
   "source": [
    "# read data\n",
    "url_training = './training.xlsx'\n",
    "url_testing = './testing.xlsx'\n",
    "df = pd.read_excel(url_training, index_col='Date')\n",
    "df_test = pd.read_excel(url_testing, index_col='Date')"
   ]
  },
  {
   "cell_type": "code",
   "execution_count": null,
   "metadata": {
    "scrolled": true
   },
   "outputs": [],
   "source": [
    "# series\n",
    "plt.figure(figsize=(16, 5))\n",
    "sns.lineplot(data=df.Value)\n",
    "plt.show()"
   ]
  },
  {
   "cell_type": "markdown",
   "metadata": {},
   "source": [
    "Исходный временной ряд"
   ]
  },
  {
   "cell_type": "code",
   "execution_count": null,
   "metadata": {},
   "outputs": [],
   "source": [
    "# rolling statistics: mean\n",
    "mean_10 = df.rolling(10).mean()\n",
    "mean_20 = df.rolling(20).mean()\n",
    "mean_30 = df.rolling(30).mean()\n",
    "plt.figure(figsize=(10, 5))\n",
    "plt.plot(mean_10, color='b', label='mean_10')\n",
    "plt.plot(mean_20, color='r', label='mean_20')\n",
    "plt.plot(mean_30, color='g', label='mean_30')\n",
    "plt.legend()\n",
    "plt.grid()\n",
    "plt.show()"
   ]
  },
  {
   "cell_type": "markdown",
   "metadata": {},
   "source": [
    "Скользящая статистика. Среднее."
   ]
  },
  {
   "cell_type": "code",
   "execution_count": null,
   "metadata": {},
   "outputs": [],
   "source": [
    "# rolling std\n",
    "std_10 = df.rolling(10).std()\n",
    "std_20 = df.rolling(20).std()\n",
    "std_30 = df.rolling(30).std()\n",
    "plt.figure(figsize=(10, 5))\n",
    "plt.plot(std_10, color='b', label='std_10')\n",
    "plt.plot(std_20, color='r', label='std_20')\n",
    "plt.plot(std_30, color='g', label='std_30')\n",
    "plt.legend()\n",
    "plt.grid()\n",
    "plt.show()"
   ]
  },
  {
   "cell_type": "markdown",
   "metadata": {},
   "source": [
    "Скользящая статистика. Стандартное отклонение. "
   ]
  },
  {
   "cell_type": "code",
   "execution_count": null,
   "metadata": {
    "scrolled": false
   },
   "outputs": [],
   "source": [
    "# numerical sirie and diff rolling stat\n",
    "plt.figure(figsize=(10, 5))\n",
    "plt.plot(mean_10, color='b', label='mean_10')\n",
    "plt.plot(mean_20, color='g', label='mean_20')\n",
    "plt.plot(mean_30, color='r', label='mean_30')\n",
    "plt.plot(std_10, color='c', label='std_10')\n",
    "plt.plot(std_20, color='m', label='std_20')\n",
    "plt.plot(std_30, color='y', label='std_30')\n",
    "plt.plot(df, 'k', label='train_data')\n",
    "plt.legend()\n",
    "plt.grid()\n",
    "plt.show()"
   ]
  },
  {
   "cell_type": "markdown",
   "metadata": {},
   "source": [
    "Данный ряд и скользящии статистики"
   ]
  },
  {
   "cell_type": "markdown",
   "metadata": {},
   "source": [
    "Проверка нашего ряда на стационарность"
   ]
  },
  {
   "cell_type": "code",
   "execution_count": null,
   "metadata": {},
   "outputs": [],
   "source": [
    "# Run Diki Fuller test\n",
    "DF_test(df.Value)"
   ]
  },
  {
   "cell_type": "markdown",
   "metadata": {},
   "source": [
    "# 2"
   ]
  },
  {
   "cell_type": "code",
   "execution_count": null,
   "metadata": {},
   "outputs": [],
   "source": [
    "# Time series decompose\n",
    "\n",
    "\n",
    "def decompose_time_series(x, model, freq):\n",
    "    trend = x.rolling(window=freq).mean()\n",
    "    if model == 'additive':\n",
    "        detrend = x-trend\n",
    "    else:\n",
    "        detrend = x/trend\n",
    "\n",
    "    def seasonal_mean(x, period):\n",
    "        return np.array([pd_nanmean(x[i::period], axis=0) for i in range(period)])\n",
    "    s_a = seasonal_mean(detrend, freq)\n",
    "    if model == 'additive':\n",
    "        s_a -= np.mean(s_a, axis=0)\n",
    "    nobs = detrend.shape[0]\n",
    "    seasonal = np.tile(s_a.T, nobs // freq + 1).T[:nobs]\n",
    "    if model == 'additive':\n",
    "        resid = x-trend-seasonal\n",
    "    else:\n",
    "        resid = x/trend/seasonal\n",
    "    return trend, seasonal, resid"
   ]
  },
  {
   "cell_type": "code",
   "execution_count": null,
   "metadata": {},
   "outputs": [],
   "source": [
    "def Diki_Fuller_test(a):\n",
    "    test_ = sm.tsa.adfuller(a)\n",
    "    print('adf: ', test_[0])\n",
    "    print('p-value: ', test_[1])\n",
    "    print('Critical values: ', test_[4])\n",
    "    if test_[0] > test_[4]['5%']:\n",
    "        print('Есть единичные корни, ряд не стационарен')\n",
    "    else:\n",
    "        print('Единичных корней нет, ряд стационарен')"
   ]
  },
  {
   "cell_type": "code",
   "execution_count": null,
   "metadata": {
    "scrolled": true
   },
   "outputs": [],
   "source": [
    "# Decompose Additive model\n",
    "fig, axes = plt.subplots(4, 1, sharey=False, sharex=False)\n",
    "fig.set_figwidth(14)\n",
    "fig.set_figheight(6)\n",
    "result = decompose_time_series(df.Value, model='additive', freq=12)\n",
    "sns.lineplot(data=result[0], ax=axes[0])\n",
    "sns.lineplot(data=result[1], ax=axes[1])\n",
    "sns.lineplot(data=result[2], ax=axes[2])"
   ]
  },
  {
   "cell_type": "markdown",
   "metadata": {},
   "source": [
    "Разложение. Аддитивная модель\n",
    "1 Тренд\n",
    "2 Сезонность\n",
    "3 Остаток(шум)"
   ]
  },
  {
   "cell_type": "markdown",
   "metadata": {},
   "source": [
    "Проверка полученных рядов на стационарность"
   ]
  },
  {
   "cell_type": "code",
   "execution_count": null,
   "metadata": {},
   "outputs": [],
   "source": [
    "decompos = sm.tsa.seasonal_decompose(df.Value, model=\"additive\")"
   ]
  },
  {
   "cell_type": "code",
   "execution_count": null,
   "metadata": {},
   "outputs": [],
   "source": [
    "# trend check\n",
    "decompos.trend.dropna(inplace=True)\n",
    "Diki_Fuller_test(decompos.trend)"
   ]
  },
  {
   "cell_type": "code",
   "execution_count": null,
   "metadata": {},
   "outputs": [],
   "source": [
    "# chech seasonality\n",
    "decompos.seasonal.dropna(inplace=True)\n",
    "Diki_Fuller_test(decompos.seasonal)"
   ]
  },
  {
   "cell_type": "code",
   "execution_count": null,
   "metadata": {},
   "outputs": [],
   "source": [
    "# check balance\n",
    "decompos.resid.dropna(inplace=True)\n",
    "Diki_Fuller_test(decompos.resid)"
   ]
  },
  {
   "cell_type": "code",
   "execution_count": null,
   "metadata": {
    "scrolled": false
   },
   "outputs": [],
   "source": [
    "# Decompose multiplicative model\n",
    "fig, axes = plt.subplots(4, 1, sharey=False, sharex=False)\n",
    "fig.set_figwidth(14)\n",
    "fig.set_figheight(6)\n",
    "result = decompose_time_series(df.Value,model='m',freq=12)\n",
    "sns.lineplot(data=result[0], ax=axes[0])\n",
    "sns.lineplot(data=result[1], ax=axes[1])\n",
    "sns.lineplot(data=result[2], ax=axes[2])"
   ]
  },
  {
   "cell_type": "markdown",
   "metadata": {},
   "source": [
    "Разложение. Мультиплекативная модель\n",
    "1 Тренд\n",
    "2 Сезонность\n",
    "3 Остаток(шум)"
   ]
  },
  {
   "cell_type": "markdown",
   "metadata": {},
   "source": [
    "Проверка полученных рядов на стационарность"
   ]
  },
  {
   "cell_type": "code",
   "execution_count": null,
   "metadata": {},
   "outputs": [],
   "source": [
    "decompos = sm.tsa.seasonal_decompose(df.Value, model=\"multiplicate\")"
   ]
  },
  {
   "cell_type": "code",
   "execution_count": null,
   "metadata": {},
   "outputs": [],
   "source": [
    "# trend check\n",
    "decompos.trend.dropna(inplace=True)\n",
    "Diki_Fuller_test(decompos.trend)"
   ]
  },
  {
   "cell_type": "code",
   "execution_count": null,
   "metadata": {},
   "outputs": [],
   "source": [
    "# chech seasonality\n",
    "decompos.seasonal.dropna(inplace=True)\n",
    "Diki_Fuller_test(decompos.seasonal)"
   ]
  },
  {
   "cell_type": "code",
   "execution_count": null,
   "metadata": {},
   "outputs": [],
   "source": [
    "# check balance\n",
    "decompos.resid.dropna(inplace=True)\n",
    "Diki_Fuller_test(decompos.resid)"
   ]
  },
  {
   "cell_type": "markdown",
   "metadata": {},
   "source": [
    "# 3"
   ]
  },
  {
   "cell_type": "code",
   "execution_count": null,
   "metadata": {},
   "outputs": [],
   "source": [
    "def k_integrability(time_series):\n",
    "    k = None\n",
    "    for i in range(0, 10):\n",
    "        if i == 0:\n",
    "            ts_copy = time_series.dropna()\n",
    "        else:\n",
    "            ts_copy = time_series.diff(periods=i).dropna()\n",
    "        if DF_test(ts_copy)==True:\n",
    "            k=i\n",
    "            print(\"The order of integrability=\",k)\n",
    "            break\n",
    "    return k"
   ]
  },
  {
   "cell_type": "code",
   "execution_count": null,
   "metadata": {},
   "outputs": [],
   "source": [
    "def output_acf_and_pacf(df, k, lags=30):\n",
    "    df_diff = df.Value.diff(periods=k).dropna()\n",
    "    fig = plt.figure(figsize=(12, 8))\n",
    "    ax1 = fig.add_subplot(211)\n",
    "    fig = sm.graphics.tsa.plot_acf(df_diff.values.squeeze(), lags=lags, ax=ax1)\n",
    "    ax2 = fig.add_subplot(212)\n",
    "    fig = sm.graphics.tsa.plot_pacf(df_diff, lags=49, ax=ax2)"
   ]
  },
  {
   "cell_type": "code",
   "execution_count": null,
   "metadata": {},
   "outputs": [],
   "source": [
    "def output_model_plot(df, order, df_test):\n",
    "    model = sm.tsa.ARIMA(df.Value.squeeze(), order=order).fit()\n",
    "    y_r = model.predict(start=df.shape[0],\n",
    "                        end=df.shape[0]+df_test.shape[0]-1, typ='levels')\n",
    "    plt.figure(figsize=(15, 8))\n",
    "    plt.plot(df.Value, label='Training')\n",
    "    plt.plot(df_test.Value, label='Testing')\n",
    "    plt.plot(y_r, label='Arima')\n",
    "    plt.legend(loc='best')\n",
    "    print('R2_score: ', r2_score(df_test.Value, y_r))\n",
    "    print('Aic: ', model.aic)\n",
    "    plt.show()"
   ]
  },
  {
   "cell_type": "code",
   "execution_count": null,
   "metadata": {},
   "outputs": [],
   "source": [
    "def find_good_model_by_aic(p, d, q, df, df_test):\n",
    "    parameters = product(p, q)\n",
    "    parameters_list = list(parameters)\n",
    "    results = []\n",
    "    best_aic = float(\"inf\")\n",
    "    for param in tqdm(parameters_list):\n",
    "        fault = False\n",
    "        try:\n",
    "            model = sm.tsa.ARIMA(df.Value.squeeze(), order=(param[0], d, param[1])).fit()\n",
    "            if fault == False:\n",
    "                y_r = model.predict(start=df.shape[0],end=df.shape[0]+df_test.shape[0]-1, typ='levels')\n",
    "        except ValueError:\n",
    "            fault=True\n",
    "            print('wrong parameters:', param)\n",
    "            continue\n",
    "        aic = model.aic\n",
    "        if aic < best_aic:\n",
    "            best_model = model\n",
    "            best_aic = aic\n",
    "            best_param = param\n",
    "        results.append([param, model.aic,r2_score(df_test.Value,y_r)])\n",
    "        fault=False\n",
    "    warnings.filterwarnings('default')\n",
    "    result_table = pd.DataFrame(results)\n",
    "    result_table.columns = ['parameters', 'aic','r2_score']\n",
    "    print(result_table.sort_values(by = 'aic', ascending=True).head())\n",
    "    print(result_table)\n",
    "    return result_table"
   ]
  },
  {
   "cell_type": "code",
   "execution_count": null,
   "metadata": {},
   "outputs": [],
   "source": [
    "k = k_integrability(df.Value)\n",
    "output_acf_and_pacf(df, k, lags=50)\n",
    "\n",
    "\"\"\"p=range(0,20)\n",
    "q=range(0,20)\n",
    "d=k\n",
    "get_result=find_good_model_by_aic(p,d,q,df,df_test)\"\"\"\n",
    "\n",
    "order = (3, k, 2)\n",
    "output_model_plot(df, order, df_test)\n",
    "order = (9, k, 4)\n",
    "output_model_plot(df, order, df_test) # лучший по AIC\n",
    "order = (12, k, 3)\n",
    "output_model_plot(df, order, df_test) # Лучший по R2_score"
   ]
  },
  {
   "cell_type": "code",
   "execution_count": null,
   "metadata": {},
   "outputs": [],
   "source": []
  }
 ],
 "metadata": {
  "kernelspec": {
   "display_name": "Python 3",
   "language": "python",
   "name": "python3"
  }
 },
 "nbformat": 4,
 "nbformat_minor": 2
}
